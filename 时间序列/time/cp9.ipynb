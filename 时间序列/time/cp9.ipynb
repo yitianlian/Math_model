{
 "cells": [
  {
   "cell_type": "markdown",
   "id": "79c5eabf",
   "metadata": {},
   "source": [
    "## 9. 模型评估和性能考虑\n",
    "### 9.1 模型评估"
   ]
  },
  {
   "cell_type": "code",
   "execution_count": 44,
   "id": "400acf9f",
   "metadata": {},
   "outputs": [],
   "source": [
    "import numpy as np\n",
    "import matplotlib.pyplot as plt\n",
    "from statsmodels.tsa.arima_model import ARMA\n",
    "from statsmodels.tsa.arima_process import ArmaProcess\n",
    "from sklearn.model_selection import TimeSeriesSplit"
   ]
  },
  {
   "cell_type": "markdown",
   "id": "4e9bbe8d",
   "metadata": {},
   "source": [
    "**生成交叉验证数据样本**"
   ]
  },
  {
   "cell_type": "code",
   "execution_count": 36,
   "id": "676e25d8",
   "metadata": {},
   "outputs": [
    {
     "name": "stdout",
     "output_type": "stream",
     "text": [
      "TRAIN: [0] TEST: [1]\n",
      "TRAIN: [0 1] TEST: [2]\n",
      "TRAIN: [0 1 2] TEST: [3]\n",
      "TRAIN: [0 1 2 3] TEST: [4]\n",
      "TRAIN: [0 1 2 3 4] TEST: [5]\n"
     ]
    }
   ],
   "source": [
    "X = np.array([[1, 2], [3, 4], [1, 2], [3, 4], [1, 2], [3, 4]])\n",
    "y = np.array([1, 2, 3, 4, 5, 6])\n",
    "tscv = TimeSeriesSplit()\n",
    "# 自动划分训练和测试集\n",
    "for train_index, test_index in tscv.split(X):\n",
    "    print(\"TRAIN:\", train_index, \"TEST:\", test_index)\n",
    "    X_train, X_test = X[train_index], X[test_index]\n",
    "    y_train, y_test = y[train_index], y[test_index]"
   ]
  },
  {
   "cell_type": "markdown",
   "id": "91d14953",
   "metadata": {},
   "source": [
    "**估计不确定性**"
   ]
  },
  {
   "cell_type": "code",
   "execution_count": 53,
   "id": "3ee2d183",
   "metadata": {},
   "outputs": [],
   "source": [
    "ar = np.array([1,0.7])  \n",
    "ma = np.array([1]) \n",
    "AR_object = ArmaProcess(ar, ma)\n",
    "\n",
    "# 蒙特卡洛试验重复1000次\n",
    "estimate = np.zeros(1000)\n",
    "\n",
    "def MonteCarlo():\n",
    "    # 生成一个1000\n",
    "    simulated_data = AR_object.generate_sample(nsample=1000)\n",
    "    mod = ARMA(simulated_data, order=(1, 0))  \n",
    "    res = mod.fit()\n",
    "    return -1*res.params[1]"
   ]
  },
  {
   "cell_type": "code",
   "execution_count": 60,
   "id": "50fc4657",
   "metadata": {},
   "outputs": [
    {
     "name": "stderr",
     "output_type": "stream",
     "text": [
      "c:\\users\\skywater\\pycharmprojects\\personal\\py39\\lib\\site-packages\\statsmodels\\tsa\\arima_model.py:472: FutureWarning: \n",
      "statsmodels.tsa.arima_model.ARMA and statsmodels.tsa.arima_model.ARIMA have\n",
      "been deprecated in favor of statsmodels.tsa.arima.model.ARIMA (note the .\n",
      "between arima and model) and\n",
      "statsmodels.tsa.SARIMAX. These will be removed after the 0.12 release.\n",
      "\n",
      "statsmodels.tsa.arima.model.ARIMA makes use of the statespace framework and\n",
      "is both well tested and maintained.\n",
      "\n",
      "To silence this warning and continue using ARMA and ARIMA until they are\n",
      "removed, use:\n",
      "\n",
      "import warnings\n",
      "warnings.filterwarnings('ignore', 'statsmodels.tsa.arima_model.ARMA',\n",
      "                        FutureWarning)\n",
      "warnings.filterwarnings('ignore', 'statsmodels.tsa.arima_model.ARIMA',\n",
      "                        FutureWarning)\n",
      "\n",
      "  warnings.warn(ARIMA_DEPRECATION_WARN, FutureWarning)\n"
     ]
    }
   ],
   "source": [
    "for i in range(1000):\n",
    "    estimate[i] = MonteCarlo()"
   ]
  },
  {
   "cell_type": "code",
   "execution_count": 70,
   "id": "39093bc5",
   "metadata": {},
   "outputs": [
    {
     "data": {
      "image/png": "[encoded data removed]",
      "text/plain": [
       "<Figure size 432x288 with 1 Axes>"
      ]
     },
     "metadata": {
      "needs_background": "light"
     },
     "output_type": "display_data"
    }
   ],
   "source": [
    "plt.hist(estimate,bins=20,edgecolor='lightblue');"
   ]
  },
  {
   "cell_type": "code",
   "execution_count": 74,
   "id": "32120db8",
   "metadata": {},
   "outputs": [],
   "source": [
    "ar = np.array([1,0.7, -0.2])  \n",
    "ma = np.array([1]) \n",
    "AR_object = ArmaProcess(ar, ma)\n",
    "\n",
    "# 蒙特卡洛试验重复1000次\n",
    "estimate = np.zeros(1000)\n",
    "\n",
    "def MonteCarlo():\n",
    "    # 生成一个1000\n",
    "    simulated_data = AR_object.generate_sample(nsample=1000)\n",
    "    mod = ARMA(simulated_data, order=(1, 0))  \n",
    "    res = mod.fit()\n",
    "    return -1*res.params[1]"
   ]
  },
  {
   "cell_type": "code",
   "execution_count": 77,
   "id": "e56d2c1e",
   "metadata": {},
   "outputs": [],
   "source": [
    "for i in range(1000):\n",
    "    estimate[i] = MonteCarlo()"
   ]
  },
  {
   "cell_type": "code",
   "execution_count": 78,
   "id": "9848e14c",
   "metadata": {},
   "outputs": [
    {
     "data": {
      "image/png": "[encoded data removed]",
      "text/plain": [
       "<Figure size 432x288 with 1 Axes>"
      ]
     },
     "metadata": {
      "needs_background": "light"
     },
     "output_type": "display_data"
    }
   ],
   "source": [
    "plt.hist(estimate,bins=20,edgecolor='lightblue');"
   ]
  },
  {
   "cell_type": "code",
   "execution_count": null,
   "id": "22bb9028",
   "metadata": {},
   "outputs": [],
   "source": []
  }
 ],
 "metadata": {
  "kernelspec": {
   "display_name": "Python 3",
   "language": "python",
   "name": "python3"
  },
  "language_info": {
   "codemirror_mode": {
    "name": "ipython",
    "version": 3
   },
   "file_extension": ".py",
   "mimetype": "text/x-python",
   "name": "python",
   "nbconvert_exporter": "python",
   "pygments_lexer": "ipython3",
   "version": "3.9.4"
  },
  "toc": {
   "base_numbering": 1,
   "nav_menu": {},
   "number_sections": false,
   "sideBar": true,
   "skip_h1_title": false,
   "title_cell": "Table of Contents",
   "title_sidebar": "Contents",
   "toc_cell": false,
   "toc_position": {},
   "toc_section_display": true,
   "toc_window_display": false
  }
 },
 "nbformat": 4,
 "nbformat_minor": 5
}
